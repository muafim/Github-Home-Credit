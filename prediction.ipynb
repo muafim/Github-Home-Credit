{
 "cells": [
  {
   "cell_type": "code",
   "execution_count": null,
   "id": "f63fc65f",
   "metadata": {
    "vscode": {
     "languageId": "plaintext"
    }
   },
   "outputs": [],
   "source": [
    "import pandas as pd\n",
    "import numpy as np\n",
    "from sklearn.model_selection import train_test_split, learning_curve\n",
    "from sklearn.preprocessing import StandardScaler, OneHotEncoder\n",
    "from sklearn.impute import SimpleImputer\n",
    "from sklearn.compose import ColumnTransformer\n",
    "from sklearn.pipeline import Pipeline\n",
    "from sklearn.linear_model import LogisticRegression\n",
    "from sklearn.tree import DecisionTreeClassifier\n",
    "from sklearn.ensemble import RandomForestClassifier\n",
    "from sklearn.metrics import (\n",
    "    classification_report, confusion_matrix,\n",
    "    roc_auc_score, roc_curve, precision_recall_curve, average_precision_score\n",
    ")\n",
    "import matplotlib.pyplot as plt\n",
    "import seaborn as sns"
   ]
  },
  {
   "cell_type": "code",
   "execution_count": null,
   "id": "a6b114ce",
   "metadata": {
    "vscode": {
     "languageId": "plaintext"
    }
   },
   "outputs": [],
   "source": [
    "df = pd.read_csv(\"/kaggle/input/rakamin-homecredit/application_train.csv\")\n",
    "\n",
    "target = \"TARGET\"\n",
    "y = df[target]\n",
    "X = df.drop(columns=[target])"
   ]
  },
  {
   "cell_type": "code",
   "execution_count": null,
   "id": "d739135c",
   "metadata": {
    "vscode": {
     "languageId": "plaintext"
    }
   },
   "outputs": [],
   "source": [
    "print(\"Distribusi target:\", y.value_counts(normalize=True).round(4))\n",
    "plt.figure(figsize=(6,4))\n",
    "sns.countplot(x=y, palette=\"Set2\")\n",
    "plt.title(\"Distribusi Target (0/1) - Sebelum Preprocessing\")\n",
    "plt.show()\n",
    "\n",
    "print(\"\\n📊 Info Data:\")\n",
    "print(df.info())\n",
    "\n",
    "print(\"\\n🔢 Missing Values per Kolom (Top 20):\")\n",
    "print(df.isnull().sum().sort_values(ascending=False).head(20))\n",
    "\n",
    "# Contoh distribusi fitur numerik\n",
    "num_sample = df.select_dtypes(exclude=\"object\").iloc[:, :5]\n",
    "num_sample.hist(bins=30, figsize=(15,6), layout=(2,3))\n",
    "plt.suptitle(\"Distribusi Fitur Numerik (Contoh 5) - Sebelum Preprocessing\")\n",
    "plt.show()\n",
    "\n",
    "# Korelasi numerik dg Target\n",
    "corr = df[num_sample.columns.tolist() + [target]].corr()\n",
    "plt.figure(figsize=(8,6))\n",
    "sns.heatmap(corr, annot=True, cmap=\"coolwarm\")\n",
    "plt.title(\"Korelasi Fitur Numerik dg Target - Sebelum Preprocessing\")\n",
    "plt.show()\n",
    "\n",
    "# Contoh fitur kategorikal\n",
    "cat_sample = \"NAME_CONTRACT_TYPE\"\n",
    "if cat_sample in df.columns:\n",
    "    plt.figure(figsize=(6,4))\n",
    "    sns.countplot(x=cat_sample, data=df, palette=\"Set3\", hue=y)\n",
    "    plt.title(f\"Distribusi {cat_sample} berdasarkan Target - Sebelum Preprocessing\")\n",
    "    plt.xticks(rotation=30)\n",
    "    plt.show()"
   ]
  },
  {
   "cell_type": "code",
   "execution_count": null,
   "id": "d8ca76fe",
   "metadata": {
    "vscode": {
     "languageId": "plaintext"
    }
   },
   "outputs": [],
   "source": [
    "X_train, X_temp, y_train, y_temp = train_test_split(\n",
    "    X, y, test_size=0.3, stratify=y, random_state=42\n",
    ")\n",
    "X_val, X_test, y_val, y_test = train_test_split(\n",
    "    X_temp, y_temp, test_size=0.5, stratify=y_temp, random_state=42\n",
    ")\n"
   ]
  },
  {
   "cell_type": "code",
   "execution_count": null,
   "id": "cfd75d93",
   "metadata": {
    "vscode": {
     "languageId": "plaintext"
    }
   },
   "outputs": [],
   "source": [
    "cat_cols = X.select_dtypes(include=[\"object\"]).columns.tolist()\n",
    "num_cols = X.select_dtypes(exclude=[\"object\"]).columns.tolist()\n",
    "\n",
    "preprocessor = ColumnTransformer(\n",
    "    transformers=[\n",
    "        (\"num\", Pipeline([\n",
    "            (\"imputer\", SimpleImputer(strategy=\"median\")),\n",
    "            (\"scaler\", StandardScaler())\n",
    "        ]), num_cols),\n",
    "        (\"cat\", OneHotEncoder(handle_unknown=\"ignore\", sparse_output=False), cat_cols)\n",
    "    ]\n",
    ")\n"
   ]
  },
  {
   "cell_type": "code",
   "execution_count": null,
   "id": "aee318f7",
   "metadata": {
    "vscode": {
     "languageId": "plaintext"
    }
   },
   "outputs": [],
   "source": [
    "X_train_all = preprocessor.fit_transform(X_train)\n",
    "X_val_all   = preprocessor.transform(X_val)\n",
    "X_test_all  = preprocessor.transform(X_test)\n",
    "\n",
    "print(\"\\n📊 Shape Sesudah Preprocessing:\")\n",
    "print(\"Train:\", X_train_all.shape, \"Val:\", X_val_all.shape, \"Test:\", X_test_all.shape)\n",
    "\n",
    "# Konversi ke DataFrame\n",
    "feature_names = preprocessor.get_feature_names_out()\n",
    "X_train_all_df = pd.DataFrame(X_train_all, columns=feature_names, index=X_train.index)\n",
    "\n",
    "# Distribusi beberapa fitur numerik\n",
    "X_train_all_df.iloc[:, :5].hist(bins=30, figsize=(15,6), layout=(2,3))\n",
    "plt.suptitle(\"Distribusi Fitur Numerik (Contoh 5) - Sesudah Preprocessing\")\n",
    "plt.show()\n",
    "\n",
    "print(\"\\n📊 Statistik Ringkas Sesudah Preprocessing (5 fitur pertama):\")\n",
    "print(X_train_all_df.iloc[:, :5].describe())\n",
    "\n",
    "# Korelasi antar fitur (contoh 10)\n",
    "corr_post = X_train_all_df.iloc[:, :10].corr()\n",
    "plt.figure(figsize=(8,6))\n",
    "sns.heatmap(corr_post, annot=False, cmap=\"viridis\")\n",
    "plt.title(\"Korelasi Antar Fitur (Contoh 10) - Sesudah Preprocessing\")\n",
    "plt.show()\n"
   ]
  },
  {
   "cell_type": "code",
   "execution_count": null,
   "id": "12fc7242",
   "metadata": {
    "vscode": {
     "languageId": "plaintext"
    }
   },
   "outputs": [],
   "source": [
    "models = {\n",
    "    \"Logistic Regression\": LogisticRegression(max_iter=3000, class_weight=\"balanced\", solver=\"lbfgs\"),\n",
    "    \"Decision Tree\": DecisionTreeClassifier(random_state=42, class_weight=\"balanced\"),\n",
    "    \"Random Forest\": RandomForestClassifier(n_estimators=200, random_state=42, class_weight=\"balanced\", n_jobs=-1)\n",
    "}\n",
    "\n",
    "roc_results = {}\n",
    "pr_results = {}\n"
   ]
  },
  {
   "cell_type": "code",
   "execution_count": null,
   "id": "250b9154",
   "metadata": {
    "vscode": {
     "languageId": "plaintext"
    }
   },
   "outputs": [],
   "source": [
    "for name, model in models.items():\n",
    "    pipe = Pipeline(steps=[(\"pre\", preprocessor), (\"model\", model)])\n",
    "    pipe.fit(X_train, y_train)\n",
    "\n",
    "    # Probabilitas prediksi\n",
    "    y_val_proba = pipe.predict_proba(X_val)[:, 1]\n",
    "    y_val_pred = pipe.predict(X_val)\n",
    "\n",
    "    # ROC\n",
    "    auc = roc_auc_score(y_val, y_val_proba)\n",
    "    fpr, tpr, _ = roc_curve(y_val, y_val_proba)\n",
    "    roc_results[name] = (fpr, tpr, auc)\n",
    "\n",
    "    # Precision-Recall\n",
    "    precision, recall, _ = precision_recall_curve(y_val, y_val_proba)\n",
    "    ap = average_precision_score(y_val, y_val_proba)\n",
    "    pr_results[name] = (precision, recall, ap)\n",
    "\n",
    "    # Report\n",
    "    print(\"=\"*50)\n",
    "    print(f\"{name}\")\n",
    "    print(classification_report(y_val, y_val_pred, digits=4))\n",
    "    print(f\"AUC: {auc:.4f} | Average Precision: {ap:.4f}\")\n",
    "\n",
    "    # Confusion Matrix\n",
    "    cm = confusion_matrix(y_val, y_val_pred, labels=[0,1])\n",
    "    plt.figure(figsize=(4,4))\n",
    "    sns.heatmap(cm, annot=True, fmt=\"d\", cmap=\"Blues\", xticklabels=[0,1], yticklabels=[0,1])\n",
    "    plt.title(f\"Confusion Matrix - {name}\")\n",
    "    plt.xlabel(\"Predicted\")\n",
    "    plt.ylabel(\"Actual\")\n",
    "    plt.show()\n",
    "\n",
    "    # Learning Curve\n",
    "    train_sizes, train_scores, val_scores = learning_curve(\n",
    "        pipe, X_train, y_train, cv=3, scoring=\"roc_auc\",\n",
    "        train_sizes=np.linspace(0.1, 1.0, 5), n_jobs=-1\n",
    "    )\n",
    "    train_mean = train_scores.mean(axis=1)\n",
    "    val_mean = val_scores.mean(axis=1)\n",
    "\n",
    "    plt.figure(figsize=(6,4))\n",
    "    plt.plot(train_sizes, train_mean, \"o-\", label=\"Train AUC\")\n",
    "    plt.plot(train_sizes, val_mean, \"o-\", label=\"Validation AUC\")\n",
    "    plt.title(f\"Learning Curve - {name}\")\n",
    "    plt.xlabel(\"Training samples\")\n",
    "    plt.ylabel(\"AUC\")\n",
    "    plt.legend(loc=\"best\")\n",
    "    plt.grid(True)\n",
    "    plt.show()\n"
   ]
  },
  {
   "cell_type": "code",
   "execution_count": null,
   "id": "66a6f736",
   "metadata": {
    "vscode": {
     "languageId": "plaintext"
    }
   },
   "outputs": [],
   "source": [
    "plt.figure(figsize=(7,7))\n",
    "for name, (fpr, tpr, auc) in roc_results.items():\n",
    "    plt.plot(fpr, tpr, label=f\"{name} (AUC={auc:.4f})\")\n",
    "plt.plot([0,1],[0,1],'--', color=\"gray\")\n",
    "plt.xlabel(\"False Positive Rate\")\n",
    "plt.ylabel(\"True Positive Rate\")\n",
    "plt.title(\"ROC Curve Comparison\")\n",
    "plt.legend(loc=\"lower right\")\n",
    "plt.show()\n"
   ]
  },
  {
   "cell_type": "code",
   "execution_count": null,
   "id": "82505587",
   "metadata": {
    "vscode": {
     "languageId": "plaintext"
    }
   },
   "outputs": [],
   "source": [
    "plt.figure(figsize=(7,7))\n",
    "for name, (precision, recall, ap) in pr_results.items():\n",
    "    plt.plot(recall, precision, label=f\"{name} (AP={ap:.4f})\")\n",
    "plt.xlabel(\"Recall\")\n",
    "plt.ylabel(\"Precision\")\n",
    "plt.title(\"Precision-Recall Curve Comparison\")\n",
    "plt.legend(loc=\"lower left\")\n",
    "plt.show()\n"
   ]
  },
  {
   "cell_type": "code",
   "execution_count": null,
   "id": "ccd33076",
   "metadata": {
    "vscode": {
     "languageId": "plaintext"
    }
   },
   "outputs": [],
   "source": [
    "rf_pipe = Pipeline(steps=[(\"pre\", preprocessor),\n",
    "                          (\"model\", RandomForestClassifier(\n",
    "                              n_estimators=200, random_state=42, \n",
    "                              class_weight=\"balanced\", n_jobs=-1))])\n",
    "rf_pipe.fit(X_train, y_train)\n",
    "\n",
    "feature_names = rf_pipe.named_steps[\"pre\"].get_feature_names_out()\n",
    "importances = rf_pipe.named_steps[\"model\"].feature_importances_\n",
    "\n",
    "feat_imp = pd.DataFrame({\n",
    "    \"Feature\": feature_names,\n",
    "    \"Importance\": importances\n",
    "}).sort_values(by=\"Importance\", ascending=False).head(20)\n",
    "\n",
    "print(\"\\nTop 20 Feature Importances (Random Forest):\")\n",
    "print(feat_imp)\n",
    "\n",
    "plt.figure(figsize=(8,6))\n",
    "sns.barplot(x=\"Importance\", y=\"Feature\", data=feat_imp, palette=\"viridis\")\n",
    "plt.title(\"Top 20 Feature Importances - Random Forest\")\n",
    "plt.tight_layout()\n",
    "plt.show()\n"
   ]
  },
  {
   "cell_type": "code",
   "execution_count": null,
   "id": "fcfe3b7f",
   "metadata": {
    "vscode": {
     "languageId": "plaintext"
    }
   },
   "outputs": [],
   "source": [
    "test_df = pd.read_csv(\"/kaggle/input/rakamin-homecredit/application_test.csv\")\n",
    "submission = pd.read_csv(\"/kaggle/input/rakamin-homecredit/sample_submission.csv\")\n",
    "\n",
    "best_model = LogisticRegression(max_iter=2000, class_weight=\"balanced\", solver=\"lbfgs\")\n",
    "pipe_best = Pipeline(steps=[(\"pre\", preprocessor), (\"model\", best_model)])\n",
    "pipe_best.fit(X_train, y_train)\n",
    "\n",
    "test_pred_proba = pipe_best.predict_proba(test_df)[:, 1]\n",
    "submission[\"TARGET\"] = test_pred_proba\n",
    "submission.to_csv(\"submission.csv\", index=False)\n",
    "\n",
    "print(\"✅ File submission.csv berhasil dibuat!\")\n",
    "print(submission.head())\n"
   ]
  }
 ],
 "metadata": {
  "language_info": {
   "name": "python"
  }
 },
 "nbformat": 4,
 "nbformat_minor": 5
}
